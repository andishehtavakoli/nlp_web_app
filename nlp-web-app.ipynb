{
 "cells": [
  {
   "cell_type": "code",
   "execution_count": 1,
   "id": "ac90c280",
   "metadata": {},
   "outputs": [],
   "source": [
    "import spacy\n",
    "import pandas as pd\n",
    "import numpy as np"
   ]
  },
  {
   "cell_type": "code",
   "execution_count": 5,
   "id": "40aec486",
   "metadata": {},
   "outputs": [],
   "source": [
    "# !python -m spacy download en_core_web_sm"
   ]
  },
  {
   "cell_type": "code",
   "execution_count": 7,
   "id": "ad0c58af",
   "metadata": {},
   "outputs": [],
   "source": [
    "sample_text = \"\"\"\n",
    "International equities have long been overshadowed by the market’s fascination with leading U.S. technology companies. But the tide may be shifting. A confluence of top-down and bottom-up dynamics is making the case for international equities much stronger.\n",
    "\n",
    "\n",
    "From a macro perspective, the U.S. dollar has weakened significantly against the euro and other global currencies since last October. Currencies can overshoot for extended periods, and the dollar has been overvalued on several metrics for many years. That said, in the past few months, we have seen signs of a turn. And in periods of dollar weakness, currency translation effects can significantly impact total returns from equities.Meanwhile, Europe has weathered the energy disruption from the Russia-Ukraine war better than expected, although a mild winter has helped. The European Central Bank’s efforts to rein in inflation had a dampening effect on the overall economy. GDP growth in the fourth quarter was flat as higher interest rates started to bite. Nevertheless, consumers have shown resilience, buffeted by savings built up during COVID lockdowns and by generous fiscal support provided to consumers during the pandemic.\n",
    "\n",
    "\n",
    "China’s reopening could be another positive catalyst for Europe, given the strong trade ties between the two regions. It's also a large export market for Japan and other Asian countries.\n",
    "\n",
    "\n",
    "Against this supportive macro-economic backdrop, international equities led by European stocks have had a strong run over the past six months. Yet valuations remain below long-term averages for many sectors, suggesting there could be upside ahead. 1. Semiconductors are crucial to power the digital economy\n",
    "\n",
    "Despite the recent cyclical downturn and geopolitical headlines, the semiconductor industry appears poised to enjoy years of growth ahead. And companies outside the U.S dominate much of the industry.\n",
    "\n",
    "\n",
    "The need for computing power is only increasing. Industry-wide revenue is projected to reach $940 billion by 2030, doubling from 2020, based on estimates from leading semiconductor equipment manufacturer ASML.\n",
    "\n",
    "\n",
    "Several demand drivers are gaining traction. One is high-performance computing chips used in cloud computing and artificial intelligence (AI) functions like ChatGPT. Another is autos: Today’s average car contains many times more semiconductors than a smartphone.\n",
    "\n",
    "\n",
    "We expect companies in Taiwan, Japan and Europe to thrive from these trends. Many of them have developed specialized expertise that is hard to replicate in manufacturing, chip-making equipment and laser-inspection tools for microchips.\n",
    "\n",
    "\n",
    "Western governments have also realized semiconductors are essential to national security. The CHIPS and Science Act of 2022, which provides $52.7 billion for American semiconductor development, and a new fund established in Europe are among the efforts to incentivize companies to move production back home. \n",
    "\n",
    "If you got lazy about making that trip to Las Vegas and decided to play online blackjack instead, chances are the platform is powered by a European company. Gaming and sports betting are among the fastest growing areas of online entertainment. The global online gambling market was valued at $63.5 billion in 2022 and is expected to grow at a double-digit rate for the next decade, according to various estimates.\n",
    "\n",
    "\n",
    "Flutter of Ireland, Entain of the United Kingdom and Evolution of Sweden command this space, having developed the technology over the past decade. Online casinos and sports betting became legalized in many European markets earlier than the U.S. Now, as legalization of online casinos and sports betting expands state by state across the U.S., European firms have been gaining market share at a rapid pace.\n",
    "\n",
    "\n",
    "We are seeing innovation in other areas of technology as well. Sweden’s Spotify is one of the world’s leading music-streaming platforms. U.K.- based Ocado developed valuable technology for the online grocery business. And there’s ASML in the Netherlands, whose EUV (extreme ultraviolet) lithography machines dominate leading-edge semiconductor manufacturing for high-end phones and data centers.Europe’s transition to energy sources outside of Russia is creating new opportunities across a host of industries, including renewed interest in European oil giants. \n",
    "\n",
    "\n",
    "At the same time, many governments around the world are committed to reducing their reliance on fossil fuels and pivoting to renewable energies. The Inflation Reduction Act in the U.S. provides for a massive $369 billion package of tax credits, loans and grants to spur the capital investment needed to create a meaningful U.S. domestic solar and wind power-generation industry. But this energy needs to be stored using batteries that rely heavily on rare earth materials and industrial metals including copper, nickel and lithium. \n",
    "\n",
    "\n",
    "Mining companies are gearing up for the energy transition. Rio Tinto recently said it intends to double its annual copper output by 2030, while BHP Group acquired OZ Minerals, a copper and gold miner. Mining companies in Canada, Great Britain and Australia have both the resources and the highly specialized expertise. In the near term, the materials sector can also benefit from a pickup in manufacturing activity in China as factories reopen across the country. Although European economic growth has remained flat, the consumer has shown resilience, partly due to savings accumulated in the last few years amid COVID lockdowns and fiscal support from central governments. Against this backdrop, and facing rising input costs, large consumer goods giants have raised prices. In the near term, this can put pressure on operating and profit margins. Longer term, the price hikes usually stick, even as costs plateau or soften over time, which can help expand margins and profitability.\n",
    "\n",
    "\n",
    "Consumer demand has been surprisingly resilient in many parts of the world. Now, with China’s reopening, we expect demand for luxury goods and travel to shoot higher. Prominent luxury goods companies LVMH and Hermès both reported strong first-quarter results, bolstered by demand from customers in China. While there is a degree of risk, given the potential for an economic slowdown, rising demand from China should offset slower demand in other markets. And importantly, European brands have become synonymous with luxury around the world, building leading market share positions and a level of expertise that is difficult to replicate, affording them a degree of pricing power.  Air travel is picking up again in a post-pandemic world and should get a big boost from China ending its three-year lockdown. Travel is a secular growth industry in a lot of countries, and demand is growing for new airplanes. Only about 20% of the world’s population has ever been on a plane. So there is huge room for growth, especially in emerging markets, where the middle class is growing, and air travel is still in its infancy.\n",
    "\n",
    "\n",
    "More than 39,000 new aircraft are projected to be built by 2040, with roughly 40% slotted for Asian countries, according to Airbus and Boeing, who dominate the market. While U.S.-based Boeing specializes in wide-body aircraft, Airbus in France leads in midsize planes used for short-haul flights — the segment seeing the fastest growth. European companies also build engines and components, led by Safran, the world’s largest maker of engines for single-aisle planes as well as landing gear.\n",
    "\n",
    "\n",
    "The dynamics of aircraft orders benefit the manufacturers. Airlines pay in installments and have prepaid most of the cost by the time the planes are delivered. Given the backlog, they don’t like to lose their place in the queue for deliveries. This provides a strong baseline for forecasting cash flows and revenue streams.Japan’s corporate world doesn’t garner much headline attention. But several companies are undergoing transformations. Olympus is known worldwide as a camera brand, but that’s no longer its emphasis after a multiyear restructuring. Leveraging technology developed over the decades, Olympus has transformed itself into the world’s leading supplier of endoscopes used in medical procedures. Fujifilm is another example. The company has evolved into a major player in health care, offering drug development and manufacturing services to multinational pharmaceutical companies. It has also expanded into the semiconductor materials business.  \n",
    "\n",
    "\n",
    "In other areas, Japanese firms have carved out unique technologies used in industrial automation equipment and inspection tools for semiconductor manufacturers. These companies will likely play a central role as we see an industrial renaissance in developed economies and ongoing industrialization in developing economies. \n",
    "\n",
    "\n",
    "Corporate Japan has been on a journey to improve profitability, capital allocation and corporate governance since 2012 under policy reforms advocated by former Prime Minister Shinzo Abe. And more recently, Japanese companies have seen a rise in shareholder activism, with investors asking for a better return on investments. As many companies tend to have high levels of cash on their balance sheets, this could lead to companies paying out more of their excess cash in dividends.Innovation is ramping up in health care. Europe is home to many high-quality pharmaceutical companies. Many have invested heavily in drug discovery in recent years and have built deep pipelines of pioneering treatments to tackle some of the world’s biggest health issues.\n",
    "\n",
    "\n",
    "Some pharmaceutical companies such as AstraZeneca are transitioning from a broad suite of health care drugs toward specialty care; roughly 40% of AstraZeneca’s drugs are now related to oncology. This allows companies to create dominant franchises in select areas of health care.\n",
    "\n",
    "\n",
    "As investor optimism has risen, valuations have expanded, making us somewhat cautious in the near term. That said, with better visibility on future growth and no major patent expirations in the coming years, pharmaceutical companies may see higher price-earnings multiples than they did in the prior decade.\n",
    "\n",
    "\n",
    "In an uncertain macro environment, the strong capitalization of many pharmaceutical companies is another positive factor. Many have plenty of cash on their balance sheets to pay dividends or fund their own growth through acquisitions. This could help in a higher interest-rate world where raising debt capital will be more expensive.Credit Suisse’s merger with UBS in late March generated headlines about weak links in the banking system. But overall, the European banking sector is arguably in its strongest operating position since the great financial crisis. Banks have built up significant capital reserves to absorb potential loan losses, which should protect earnings in a recession. Capital ratios and profitability are at all-time highs. Furthermore, positive interest rates should help net interest income (a key profitability measure) for the rate-sensitive banks.\n",
    "\n",
    "\n",
    "Compared with their U.S. counterparts, European banks do not take on large amounts of interest-rate risk due to tighter regulations. Banks in Europe also tend to be relatively well diversified, with large funding bases built on retail branch deposits. Our banking analysts anticipate returns on capital should improve. Given a less restrictive regulatory environment, dividends could increase, and buybacks may rise.\n",
    "\n",
    "\n",
    "Similarly, domestic-focused Asian banks appear relatively sound for several reasons. Besides operating in countries where economic growth rates are projected to outpace the developed world, they have limited exposure to U.S. regional banks and Credit Suisse. They are well capitalized and tend to have smaller investment portfolios. A broad opportunity set spans growth and value\n",
    "\n",
    "Inflection points in markets tend to prompt investors to take a fresh look at asset allocation. The rise in interest rates around the world triggered by tighter monetary policy has been a reset of sorts for all financial assets. Growth stocks pulled back last year and have rebounded as the monetary tightening cycle appears closer to the end than the beginning.\n",
    "\n",
    "\n",
    "Nevertheless, portfolio flows over the past six months can be read as a signal that investors are looking to broaden their equity exposure beyond the dominant U.S. technology companies. International equities spanning many industries across the growth and value spectrum provide a diversified opportunity set with valuations that appear reasonable by many measures. \n",
    "\n",
    "\n",
    "\n",
    "\n",
    "When it comes to building new homes or retrofitting older buildings, industrial companies in Europe are rapidly transitioning to alternative energy sources and newer, less energy-intensive manufacturing technologies.\n",
    "\"\"\""
   ]
  },
  {
   "cell_type": "code",
   "execution_count": 10,
   "id": "2f205f2f",
   "metadata": {},
   "outputs": [],
   "source": [
    "nlp = spacy.load('en_core_web_sm')\n",
    "doc = nlp(sample_text)"
   ]
  },
  {
   "cell_type": "code",
   "execution_count": 13,
   "id": "8c8f2060",
   "metadata": {},
   "outputs": [
    {
     "data": {
      "text/plain": [
       "spacy.tokens.doc.Doc"
      ]
     },
     "execution_count": 13,
     "metadata": {},
     "output_type": "execute_result"
    }
   ],
   "source": [
    "type(doc)"
   ]
  },
  {
   "cell_type": "code",
   "execution_count": 21,
   "id": "2d8acc82",
   "metadata": {},
   "outputs": [
    {
     "name": "stdout",
     "output_type": "stream",
     "text": [
      "\n",
      "\n",
      "<class 'spacy.tokens.token.Token'>\n",
      "<class 'str'>\n",
      "SPACE\n"
     ]
    }
   ],
   "source": [
    "for token in doc:\n",
    "#     print(token)\n",
    "#     print(type(token))\n",
    "#     print(type(token.text))\n",
    "#     print(token.pos_)\n",
    "\n",
    "\n",
    "    break"
   ]
  },
  {
   "cell_type": "code",
   "execution_count": 42,
   "id": "b5237c7a",
   "metadata": {},
   "outputs": [
    {
     "name": "stdout",
     "output_type": "stream",
     "text": [
      "[<class 'str'>, <class 'str'>, <class 'str'>]\n"
     ]
    }
   ],
   "source": [
    "for ent in doc.ents:\n",
    "    print(list(map(type, (ent.text, ent.label_, spacy.explain(ent.label_)))))\n",
    "    break\n",
    "    "
   ]
  },
  {
   "cell_type": "code",
   "execution_count": 56,
   "id": "ea6d83ef",
   "metadata": {},
   "outputs": [],
   "source": [
    "nlp = spacy.load('en_core_web_sm')"
   ]
  },
  {
   "cell_type": "code",
   "execution_count": 57,
   "id": "e7fc3c5e",
   "metadata": {},
   "outputs": [],
   "source": [
    "def build_entity(text, nlp):    \n",
    "    doc = nlp(text)\n",
    "    ent_list = []\n",
    "\n",
    "    for ent in doc.ents:\n",
    "\n",
    "        ent_dict = {\n",
    "            'text': ent.text,\n",
    "            'label':ent.label_,\n",
    "            'description': spacy.explain(ent.label_)        \n",
    "                   }\n",
    "\n",
    "        ent_list.append(ent_dict)\n",
    "\n",
    "    df = pd.DataFrame(ent_list)\n",
    "    return df\n",
    "\n"
   ]
  },
  {
   "cell_type": "code",
   "execution_count": 60,
   "id": "25029844",
   "metadata": {},
   "outputs": [
    {
     "data": {
      "text/html": [
       "<div>\n",
       "<style scoped>\n",
       "    .dataframe tbody tr th:only-of-type {\n",
       "        vertical-align: middle;\n",
       "    }\n",
       "\n",
       "    .dataframe tbody tr th {\n",
       "        vertical-align: top;\n",
       "    }\n",
       "\n",
       "    .dataframe thead th {\n",
       "        text-align: right;\n",
       "    }\n",
       "</style>\n",
       "<table border=\"1\" class=\"dataframe\">\n",
       "  <thead>\n",
       "    <tr style=\"text-align: right;\">\n",
       "      <th></th>\n",
       "      <th>text</th>\n",
       "      <th>label</th>\n",
       "      <th>description</th>\n",
       "    </tr>\n",
       "  </thead>\n",
       "  <tbody>\n",
       "    <tr>\n",
       "      <th>0</th>\n",
       "      <td>U.S.</td>\n",
       "      <td>GPE</td>\n",
       "      <td>Countries, cities, states</td>\n",
       "    </tr>\n",
       "    <tr>\n",
       "      <th>1</th>\n",
       "      <td>U.S.</td>\n",
       "      <td>GPE</td>\n",
       "      <td>Countries, cities, states</td>\n",
       "    </tr>\n",
       "    <tr>\n",
       "      <th>2</th>\n",
       "      <td>last October</td>\n",
       "      <td>DATE</td>\n",
       "      <td>Absolute or relative dates or periods</td>\n",
       "    </tr>\n",
       "    <tr>\n",
       "      <th>3</th>\n",
       "      <td>many years</td>\n",
       "      <td>DATE</td>\n",
       "      <td>Absolute or relative dates or periods</td>\n",
       "    </tr>\n",
       "    <tr>\n",
       "      <th>4</th>\n",
       "      <td>the past few months</td>\n",
       "      <td>DATE</td>\n",
       "      <td>Absolute or relative dates or periods</td>\n",
       "    </tr>\n",
       "    <tr>\n",
       "      <th>...</th>\n",
       "      <td>...</td>\n",
       "      <td>...</td>\n",
       "      <td>...</td>\n",
       "    </tr>\n",
       "    <tr>\n",
       "      <th>114</th>\n",
       "      <td>Credit Suisse</td>\n",
       "      <td>ORG</td>\n",
       "      <td>Companies, agencies, institutions, etc.</td>\n",
       "    </tr>\n",
       "    <tr>\n",
       "      <th>115</th>\n",
       "      <td>last year</td>\n",
       "      <td>DATE</td>\n",
       "      <td>Absolute or relative dates or periods</td>\n",
       "    </tr>\n",
       "    <tr>\n",
       "      <th>116</th>\n",
       "      <td>the past six months</td>\n",
       "      <td>DATE</td>\n",
       "      <td>Absolute or relative dates or periods</td>\n",
       "    </tr>\n",
       "    <tr>\n",
       "      <th>117</th>\n",
       "      <td>U.S.</td>\n",
       "      <td>GPE</td>\n",
       "      <td>Countries, cities, states</td>\n",
       "    </tr>\n",
       "    <tr>\n",
       "      <th>118</th>\n",
       "      <td>Europe</td>\n",
       "      <td>LOC</td>\n",
       "      <td>Non-GPE locations, mountain ranges, bodies of ...</td>\n",
       "    </tr>\n",
       "  </tbody>\n",
       "</table>\n",
       "<p>119 rows × 3 columns</p>\n",
       "</div>"
      ],
      "text/plain": [
       "                    text label   \n",
       "0                   U.S.   GPE  \\\n",
       "1                   U.S.   GPE   \n",
       "2           last October  DATE   \n",
       "3             many years  DATE   \n",
       "4    the past few months  DATE   \n",
       "..                   ...   ...   \n",
       "114        Credit Suisse   ORG   \n",
       "115            last year  DATE   \n",
       "116  the past six months  DATE   \n",
       "117                 U.S.   GPE   \n",
       "118               Europe   LOC   \n",
       "\n",
       "                                           description  \n",
       "0                            Countries, cities, states  \n",
       "1                            Countries, cities, states  \n",
       "2                Absolute or relative dates or periods  \n",
       "3                Absolute or relative dates or periods  \n",
       "4                Absolute or relative dates or periods  \n",
       "..                                                 ...  \n",
       "114            Companies, agencies, institutions, etc.  \n",
       "115              Absolute or relative dates or periods  \n",
       "116              Absolute or relative dates or periods  \n",
       "117                          Countries, cities, states  \n",
       "118  Non-GPE locations, mountain ranges, bodies of ...  \n",
       "\n",
       "[119 rows x 3 columns]"
      ]
     },
     "execution_count": 60,
     "metadata": {},
     "output_type": "execute_result"
    }
   ],
   "source": [
    "build_entity(sample_text, nlp)"
   ]
  },
  {
   "cell_type": "code",
   "execution_count": null,
   "id": "6bdf8c9b",
   "metadata": {},
   "outputs": [],
   "source": []
  },
  {
   "cell_type": "code",
   "execution_count": null,
   "id": "26ff6488",
   "metadata": {},
   "outputs": [],
   "source": []
  },
  {
   "cell_type": "code",
   "execution_count": null,
   "id": "6785c3a0",
   "metadata": {},
   "outputs": [],
   "source": []
  },
  {
   "cell_type": "code",
   "execution_count": null,
   "id": "a9c3076e",
   "metadata": {},
   "outputs": [],
   "source": []
  },
  {
   "cell_type": "code",
   "execution_count": null,
   "id": "2781c36f",
   "metadata": {},
   "outputs": [],
   "source": []
  }
 ],
 "metadata": {
  "kernelspec": {
   "display_name": "Python 3 (ipykernel)",
   "language": "python",
   "name": "python3"
  },
  "language_info": {
   "codemirror_mode": {
    "name": "ipython",
    "version": 3
   },
   "file_extension": ".py",
   "mimetype": "text/x-python",
   "name": "python",
   "nbconvert_exporter": "python",
   "pygments_lexer": "ipython3",
   "version": "3.8.16"
  }
 },
 "nbformat": 4,
 "nbformat_minor": 5
}
