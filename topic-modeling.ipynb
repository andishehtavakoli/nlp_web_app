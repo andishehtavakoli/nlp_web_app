{
 "cells": [
  {
   "cell_type": "code",
   "execution_count": 17,
   "id": "5a448de1",
   "metadata": {},
   "outputs": [],
   "source": [
    "import re\n",
    "import string\n",
    "import nltk\n",
    "from bertopic import BERTopic\n",
    "\n",
    "from nltk.corpus import stopwords\n",
    "from nltk.stem import WordNetLemmatizer"
   ]
  },
  {
   "cell_type": "code",
   "execution_count": 13,
   "id": "cad216b4",
   "metadata": {},
   "outputs": [
    {
     "name": "stderr",
     "output_type": "stream",
     "text": [
      "[nltk_data] Downloading package wordnet to\n",
      "[nltk_data]     /Users/andishetavakkoli/nltk_data...\n"
     ]
    },
    {
     "data": {
      "text/plain": [
       "True"
      ]
     },
     "execution_count": 13,
     "metadata": {},
     "output_type": "execute_result"
    }
   ],
   "source": [
    "nltk.download('stopwords')\n",
    "nltk.download('punkt')\n",
    "nltk.download('wordnet')"
   ]
  },
  {
   "cell_type": "code",
   "execution_count": 14,
   "id": "daa18742",
   "metadata": {},
   "outputs": [],
   "source": [
    "\n",
    "def preprocess_text(text):\n",
    "    # Convert text to lowercase\n",
    "    text = text.lower()\n",
    "\n",
    "    # Remove numbers\n",
    "    text = re.sub(r'\\d+', '', text)\n",
    "\n",
    "    # Remove punctuation\n",
    "    text = text.translate(str.maketrans('', '', string.punctuation))\n",
    "\n",
    "    # Tokenize the text\n",
    "    tokens = nltk.word_tokenize(text)\n",
    "\n",
    "    # Remove stopwords\n",
    "    stop_words = set(stopwords.words('english'))\n",
    "    tokens = [token for token in tokens if token not in stop_words]\n",
    "\n",
    "    # Lemmatize the tokens\n",
    "    lemmatizer = WordNetLemmatizer()\n",
    "    tokens = [lemmatizer.lemmatize(token) for token in tokens]\n",
    "\n",
    "    # Join the tokens back into a single string\n",
    "    preprocessed_text = ' '.join(tokens)\n",
    "\n",
    "    return preprocessed_text\n",
    "\n"
   ]
  },
  {
   "cell_type": "code",
   "execution_count": 15,
   "id": "90623dd7",
   "metadata": {},
   "outputs": [],
   "source": [
    "text = ''' The U.S. debt ceiling deal has taken the near-term risk of default off the table. Yet the fiscal situation remains challenging, in our view. Total public debt as a share of GDP has jumped to around double the level in 2005 (left chart). The budget deficit is also already large (right chart) at a time when the economy is overheating. The debt deal doesn’t really change this picture, we think. The spending cuts are a fraction of what was cut in the last debt ceiling showdown in 2011: about 0.3% of GDP, according to the Congressional Budget Office, compared with 1% in 2011. We don’t see spending cuts dragging on growth in the same way as a result. But we do think higher-for-longer interest rates will raise debt servicing costs and could leave debt levels growing in this new macro regime. We have said the market focus would move back to the macro picture after the debt ceiling deal – now the Federal Reserve and stubborn inflation are retaking the spotlight. \n",
    "\n",
    "The pandemic shocked U.S. labor supply, creating worker shortages. The labor market remains extremely tight, as confirmed in the latest payrolls data, with workforce participation not having improved. That is keeping core inflation sticky. This has presented the Fed with a sharp trade-off: crush growth with even higher rates or live with some inflation. We think the Fed will have to keep policy tighter. Markets have already started to mull the possibility of another rate hike even after the Fed signaled a potential pause. Markets are no longer pricing in repeated Fed rate cuts, waking up to our long-held view that rates are likely to stay higher for longer to combat persistent inflation.preprocess_text(text)'''"
   ]
  },
  {
   "cell_type": "code",
   "execution_count": 16,
   "id": "c41c229e",
   "metadata": {},
   "outputs": [
    {
     "data": {
      "text/plain": [
       "'u debt ceiling deal taken nearterm risk default table yet fiscal situation remains challenging view total public debt share gdp jumped around double level left chart budget deficit also already large right chart time economy overheating debt deal ’ really change picture think spending cut fraction cut last debt ceiling showdown gdp according congressional budget office compared ’ see spending cut dragging growth way result think higherforlonger interest rate raise debt servicing cost could leave debt level growing new macro regime said market focus would move back macro picture debt ceiling deal – federal reserve stubborn inflation retaking spotlight pandemic shocked u labor supply creating worker shortage labor market remains extremely tight confirmed latest payroll data workforce participation improved keeping core inflation sticky presented fed sharp tradeoff crush growth even higher rate live inflation think fed keep policy tighter market already started mull possibility another rate hike even fed signaled potential pause market longer pricing repeated fed rate cut waking longheld view rate likely stay higher longer combat persistent inflationpreprocesstexttext'"
      ]
     },
     "execution_count": 16,
     "metadata": {},
     "output_type": "execute_result"
    }
   ],
   "source": [
    "preprocess_text(text)"
   ]
  },
  {
   "cell_type": "code",
   "execution_count": null,
   "id": "7b58ec0e",
   "metadata": {},
   "outputs": [],
   "source": [
    "model = BERTopic(embedding_model=\"xlm-r-bert-base-nli-stsb-mean-tokens\")\n",
    "\n",
    "topics, probebilites = model.fit_transform(['text'])"
   ]
  },
  {
   "cell_type": "markdown",
   "id": "58027f37",
   "metadata": {},
   "source": [
    "# Youtube transcript API"
   ]
  },
  {
   "cell_type": "code",
   "execution_count": 23,
   "id": "554d37ee",
   "metadata": {},
   "outputs": [],
   "source": [
    "# !pip install youtube-transcript-api deep-translator pytube loguru"
   ]
  },
  {
   "cell_type": "code",
   "execution_count": 36,
   "id": "bb245b3f",
   "metadata": {},
   "outputs": [],
   "source": [
    "from youtube_transcript_api import YouTubeTranscriptApi\n",
    "from deep_translator import GoogleTranslator\n",
    "from pytube import YouTube\n",
    "from loguru import logger"
   ]
  },
  {
   "cell_type": "code",
   "execution_count": 45,
   "id": "35e03b29",
   "metadata": {},
   "outputs": [],
   "source": [
    "class YoutubeTranscriptDownloader:\n",
    "    def __init__(self, video_link):\n",
    "\n",
    "        video_id = YouTube(video_link).video_id\n",
    "        self.video_transcript = YouTubeTranscriptApi.get_transcript(video_id)\n",
    "\n",
    "        \n",
    "    def video_to_transcript(self):\n",
    "\n",
    "        transcript = [i['text'] for i in self.video_transcript]\n",
    "        return transcript\n",
    "\n",
    "    \n",
    "    def transcript_to_farsi(self):\n",
    "\n",
    "        transcript = self.video_to_transcript()\n",
    "\n",
    "        # Use any translator you like, in this example GoogleTranslator\n",
    "        translated_obj = GoogleTranslator(source='auto', target='fa')\n",
    "        en_fa_transcript = [(text, translated_obj.translate(text)) for text in transcript]\n",
    "        return en_fa_transcript"
   ]
  },
  {
   "cell_type": "code",
   "execution_count": 47,
   "id": "8a41a799",
   "metadata": {},
   "outputs": [
    {
     "data": {
      "text/plain": [
       "[('the crowd scores team is driven by one',\n",
       "  'تیم امتیازدهی جمعیت توسط یک نفر هدایت می شود'),\n",
       " ('goal to create high quality educational', 'هدف ایجاد آموزشی با کیفیت بالا'),\n",
       " ('videos that are free for everyone and',\n",
       "  'ویدیوهایی که برای همه رایگان است و'),\n",
       " ('pulling this off takes a village when I',\n",
       "  'بیرون کشیدن این یک دهکده را می گیرد زمانی که من'),\n",
       " ('was approached to host crash course AI I',\n",
       "  'به میزبانی دوره تصادف AI I نزدیک شد'),\n",
       " (\"was stoked it's really exciting to be\",\n",
       "  'برانگیخته شد که بودن واقعاً هیجان انگیز است'),\n",
       " ('able to speak to such a broad audience',\n",
       "  'می تواند با چنین طیف وسیعی از مخاطبان صحبت کند'),\n",
       " ('and share some of the tools and language',\n",
       "  'و برخی از ابزارها و زبان را به اشتراک بگذارید'),\n",
       " ('for understanding this really big thing', 'برای درک این چیز واقعا بزرگ'),\n",
       " ('that affects us all so deeply we take a',\n",
       "  'که آنقدر بر همه ما تأثیر می گذارد که ما آن را عمیقاً می دانیم'),\n",
       " ('lot of care when we make this thing',\n",
       "  'وقتی این چیز را می سازیم خیلی مراقب باشیم'),\n",
       " ('because we understand how impactful it',\n",
       "  'زیرا ما درک می کنیم که چقدر تاثیرگذار است'),\n",
       " ('can be so an average crash course video',\n",
       "  'می تواند یک ویدیوی دوره تصادف متوسط \\u200b\\u200bباشد'),\n",
       " ('is worked on by over 20 people there are',\n",
       "  'بیش از 20 نفر روی آن کار می کنند'),\n",
       " ('subject matter experts who help us',\n",
       "  'کارشناسان موضوعی که به ما کمک می کنند'),\n",
       " ('figure out what we should teach and in',\n",
       "  'بفهمیم که چه چیزی را باید آموزش دهیم و در آن'),\n",
       " (\"what order there's a whole team of\", 'چه سفارشی وجود دارد یک تیم کامل'),\n",
       " (\"writers and editors there's also\", 'نویسندگان و ویراستاران نیز وجود دارد'),\n",
       " ('producers and animators and audio', 'تهیه کنندگان و انیماتورها و صدا'),\n",
       " ('Engineers seeing how you know the', 'مهندسان می بینند که چگونه می دانید'),\n",
       " ('consultants and the writers and the', 'مشاوران و نویسندگان و'),\n",
       " ('animators everyone really worked', 'انیماتورها همه واقعا کار کردند'),\n",
       " ('together to make it something that feels',\n",
       "  'با هم تا آن را چیزی که احساس می کند'),\n",
       " ('so much more tangible than just like the',\n",
       "  'بسیار ملموس تر از چیزی شبیه به'),\n",
       " ('words it was really awesome to be able', 'کلمات واقعا عالی بود که بتوانم'),\n",
       " (\"to be a part of that but here's the\", 'بخشی از آن باشید، اما اینجاست'),\n",
       " ('thing the crash course team is even', 'چیزی که تیم دوره تصادف یکنواخت است'),\n",
       " ('bigger than that because it includes you',\n",
       "  'بزرگتر از آن زیرا شامل شما می شود'),\n",
       " ('and with your support crash course', 'و با پشتیبانی شما دوره سقوط'),\n",
       " ('videos have been watched by hundreds of',\n",
       "  'ویدیوها توسط صدها نفر تماشا شده است'),\n",
       " ('millions of people but we want to do',\n",
       "  'میلیون ها نفر اما ما می خواهیم انجام دهیم'),\n",
       " ('more we want to build bigger we want to',\n",
       "  'بیشتر ما می خواهیم بزرگتر بسازیم ما می خواهیم'),\n",
       " ('reach more people with the highest',\n",
       "  'به افراد بیشتری با بالاترین دسترسی پیدا کنید'),\n",
       " ('possible quality educational material', 'مواد آموزشی با کیفیت ممکن'),\n",
       " ('and we have never been able to do that',\n",
       "  'و ما هرگز نتوانسته ایم این کار را انجام دهیم'),\n",
       " ('without your help so we are releasing',\n",
       "  'بدون کمک شما، بنابراین ما آزاد می کنیم'),\n",
       " ('our third annual Crash Course coin', 'سومین سکه سالانه Crash Course ما'),\n",
       " ('available for the next 11 days only', 'فقط برای 11 روز آینده موجود است'),\n",
       " ('these coins were minted in Arkansas from', 'این سکه ها در آرکانزاس ضرب شد'),\n",
       " ('a hand engraved to dyes and they', 'یک دست حک شده به رنگها و آنها'),\n",
       " ('represent your ability to help us reach',\n",
       "  'نشان دهنده توانایی شما برای کمک به ما برای رسیدن است'),\n",
       " ('2010 000 or for the first time ever 20', '2010 000 یا برای اولین بار 20'),\n",
       " ('000 Learners to be clear this is not a',\n",
       "  '000 یادگیرنده برای روشن شدن این موضوع نیست'),\n",
       " ('small or symbolic contribution our', 'سهم کوچک یا نمادین ما'),\n",
       " ('patreon and coin campaigns represent the',\n",
       "  'کمپین های حامی و سکه نشان دهنده'),\n",
       " ('single largest portion of our budget if', 'بزرگترین بخش از بودجه ما اگر'),\n",
       " ('you support us in this way you are quite',\n",
       "  'شما در این راه از ما حمایت می کنید'),\n",
       " ('literally enabling the work of Crash',\n",
       "  'به معنای واقعی کلمه کار Crash را فعال می کند'),\n",
       " (\"Course to continue and I'm excited to\",\n",
       "  'دوره برای ادامه و من هیجان زده هستم'),\n",
       " (\"share that this year's coin features a\",\n",
       "  'به اشتراک بگذارید که سکه امسال ویژگی های a'),\n",
       " ('design inspired by this photo of the SM', 'طراحی با الهام از این عکس SM'),\n",
       " ('acs-0723 Galaxy cluster taken by the',\n",
       "  'acs-0723 کهکشان خوشه گرفته شده توسط'),\n",
       " ('James Webb Space Telescope these are', 'تلسکوپ فضایی جیمز وب اینها هستند'),\n",
       " ('galaxies that formed in the universe',\n",
       "  'کهکشان هایی که در کیهان شکل گرفته اند'),\n",
       " ('about as early as they could have and so',\n",
       "  'تقریباً تا زمانی که می توانستند و همینطور'),\n",
       " (\"what we're seeing are galaxies farther\",\n",
       "  'آنچه ما می بینیم کهکشان های دورتر هستند'),\n",
       " (\"away than we've ever seen before when I\",\n",
       "  'دور از چیزی که قبلاً دیده بودیم وقتی من'),\n",
       " ('look at this image I think of how much',\n",
       "  'به این تصویر نگاه کنید به این فکر می کنم که چقدر'),\n",
       " ('we have come to know but also how much', 'ما می دانیم اما همچنین چقدر'),\n",
       " ('we still yet have to learn I also see',\n",
       "  'ما هنوز باید یاد بگیریم من هم می بینم'),\n",
       " ('the work and skill and knowledge of each', 'کار و مهارت و دانش هر کدام'),\n",
       " ('of the literally hundreds of thousands', 'از صدها هزار نفر'),\n",
       " ('of people who helped make that image a',\n",
       "  'از افرادی که به ساخت آن تصویر کمک کردند'),\n",
       " (\"reality and this isn't just how space\", 'واقعیت و این فقط فضا نیست'),\n",
       " (\"telescopes work it's how everything\", 'تلسکوپ ها اینطوری کار می کنند'),\n",
       " ('works there is no person in the history',\n",
       "  'کار می کند که هیچ شخصی در تاریخ وجود ندارد'),\n",
       " ('of people who has built knowledge alone',\n",
       "  'از افرادی که دانش را به تنهایی ساخته اند'),\n",
       " ('and with every coin purchase you help us',\n",
       "  'و با خرید هر سکه به ما کمک می کنید'),\n",
       " ('reach More Humans our 2000 learner coin',\n",
       "  'سکه 2000 یادگیرنده ما به انسان های بیشتر برسد'),\n",
       " ('is minted on a beautiful nickel silver',\n",
       "  'بر روی یک نقره نیکل زیبا ضرب شده است'),\n",
       " (\"for a hundred dollars we're also minting\",\n",
       "  'برای صد دلار ما نیز در حال ضرب کردن هستیم'),\n",
       " ('500 of our limited edition 10 000', '500 از نسخه محدود ما 10 000'),\n",
       " ('learner coins on brass for 500 at this',\n",
       "  'سکه های دانش آموز روی برنج به قیمت 500 در این'),\n",
       " ('level your coin will be hand stamped', 'سطح سکه خود را دست مهر خواهد شد'),\n",
       " ('with a unique number and will come with',\n",
       "  'با یک شماره منحصر به فرد و همراه خواهد بود'),\n",
       " ('a signed thank you card from me and my',\n",
       "  'یک کارت تشکر امضا شده از طرف من و من'),\n",
       " ('brother John and for the first time this',\n",
       "  'برادر جان و برای اولین بار این'),\n",
       " ('year we are releasing limited edition 20',\n",
       "  'سال ما نسخه محدود 20 را منتشر می کنیم'),\n",
       " ('000 learner coins for those who are able',\n",
       "  '000 سکه دانش آموز برای کسانی که قادر هستند'),\n",
       " ('to give a thousand dollars these will be',\n",
       "  'برای دادن هزار دلار این خواهد شد'),\n",
       " ('minted on a very cool black Iron and we',\n",
       "  'بر روی یک آهن سیاه و سفید بسیار خنک ضرب شده و ما'),\n",
       " ('are only making a hundred of them we are',\n",
       "  'ما فقط صد تا از آنها را می سازیم'),\n",
       " (\"so excited for what's in store for the\",\n",
       "  'بسیار هیجان زده برای آنچه در فروشگاه برای'),\n",
       " ('future and equally excited to invite',\n",
       "  'آینده و به همان اندازه مشتاق دعوت کردن هستم'),\n",
       " ('folks who are able to be a part of our',\n",
       "  'افرادی که می توانند بخشی از ما باشند'),\n",
       " ('work in this way your purchase of the', 'خرید خود را از این طریق کار کنید'),\n",
       " ('coin at any level will allow us to keep',\n",
       "  'سکه در هر سطحی به ما این امکان را می دهد که نگه داریم'),\n",
       " ('diving deeper into our universe and', 'غواصی عمیق تر در جهان ما و'),\n",
       " ('ourselves and to inspire and educate',\n",
       "  'خودمان و برای الهام بخشیدن و آموزش'),\n",
       " ('Learners everywhere the 2023 crash', 'یادگیرندگان در همه جا سقوط 2023'),\n",
       " ('course coins are only available until',\n",
       "  'سکه های دوره فقط تا زمانی در دسترس هستند'),\n",
       " (\"June 9th and we're only making a limited\",\n",
       "  '9 ژوئن و ما فقط در حال ساخت محدود هستیم'),\n",
       " ('quantity go to crashcoursecoin.com now',\n",
       "  'اکنون به crashcoursecoin.com بروید'),\n",
       " ('or check the description for a link and', 'یا توضیحات را برای لینک و'),\n",
       " ('be part of our work thank you', 'بخشی از کار ما باشید با تشکر')]"
      ]
     },
     "execution_count": 47,
     "metadata": {},
     "output_type": "execute_result"
    }
   ],
   "source": [
    "obj = YoutubeTranscriptDownloader('https://www.youtube.com/watch?v=P6AexVtglcQ')\n",
    "obj.transcript_to_farsi()"
   ]
  },
  {
   "cell_type": "code",
   "execution_count": null,
   "id": "f5d7a8da",
   "metadata": {},
   "outputs": [],
   "source": []
  },
  {
   "cell_type": "code",
   "execution_count": null,
   "id": "6ba3f682",
   "metadata": {},
   "outputs": [],
   "source": []
  },
  {
   "cell_type": "code",
   "execution_count": null,
   "id": "717f8ec1",
   "metadata": {},
   "outputs": [],
   "source": []
  },
  {
   "cell_type": "code",
   "execution_count": null,
   "id": "b9021bd4",
   "metadata": {},
   "outputs": [],
   "source": []
  },
  {
   "cell_type": "code",
   "execution_count": null,
   "id": "a324e2d1",
   "metadata": {},
   "outputs": [],
   "source": []
  },
  {
   "cell_type": "code",
   "execution_count": null,
   "id": "4a80efd6",
   "metadata": {},
   "outputs": [],
   "source": []
  },
  {
   "cell_type": "code",
   "execution_count": null,
   "id": "805b7dcf",
   "metadata": {},
   "outputs": [],
   "source": []
  },
  {
   "cell_type": "code",
   "execution_count": null,
   "id": "f535760f",
   "metadata": {},
   "outputs": [],
   "source": []
  },
  {
   "cell_type": "code",
   "execution_count": null,
   "id": "33babd5b",
   "metadata": {},
   "outputs": [],
   "source": []
  }
 ],
 "metadata": {
  "kernelspec": {
   "display_name": "Python 3 (ipykernel)",
   "language": "python",
   "name": "python3"
  },
  "language_info": {
   "codemirror_mode": {
    "name": "ipython",
    "version": 3
   },
   "file_extension": ".py",
   "mimetype": "text/x-python",
   "name": "python",
   "nbconvert_exporter": "python",
   "pygments_lexer": "ipython3",
   "version": "3.8.16"
  }
 },
 "nbformat": 4,
 "nbformat_minor": 5
}
